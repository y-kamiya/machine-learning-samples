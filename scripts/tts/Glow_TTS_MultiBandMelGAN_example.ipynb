{
  "nbformat": 4,
  "nbformat_minor": 0,
  "metadata": {
    "colab": {
      "name": "Glow-TTS_MultiBandMelGAN_example.ipynb",
      "provenance": [],
      "collapsed_sections": [],
      "include_colab_link": true
    },
    "kernelspec": {
      "display_name": "Python 3",
      "name": "python3"
    }
  },
  "cells": [
    {
      "cell_type": "markdown",
      "metadata": {
        "id": "view-in-github",
        "colab_type": "text"
      },
      "source": [
        "<a href=\"https://colab.research.google.com/github/y-kamiya/machine-learning-samples/blob/master/scripts/tts/Glow_TTS_MultiBandMelGAN_example.ipynb\" target=\"_parent\"><img src=\"https://colab.research.google.com/assets/colab-badge.svg\" alt=\"Open In Colab\"/></a>"
      ]
    },
    {
      "cell_type": "markdown",
      "metadata": {
        "id": "6LWsNd3_M3MP"
      },
      "source": [
        "# 🐸 [Coqui TTS](https://github.com/coqui-ai/TTS) on CPU Real-Time Speech Synthesis "
      ]
    },
    {
      "cell_type": "markdown",
      "metadata": {
        "id": "FAqrSIWgLyP0"
      },
      "source": [
        "original notebook: https://colab.research.google.com/drive/1NC4eQJFvVEqD8L4Rd8CVK25_Z-ypaBHD?usp=sharing\n",
        "\n",
        "## Glow-TTS\n",
        "Paper: https://arxiv.org/abs/2005.11129\n",
        "\n",
        "This model is different than Tacotron by using a **greedy search algorithm** instead of an attention mechanism. In our experiments, it produces less **natural speech** but** easier to train** especially with lower quality datasets. It is also\n",
        "**faster than Tacotron** models since it does not rely on auto-regression and **computes output with a single pass**. You can also **control speech pace and variation** with certain model parameters as shown below.\n",
        "\n",
        "## MultiBand-MelGAN\n",
        "Paper: https://arxiv.org/abs/2005.05106 \n"
      ]
    },
    {
      "cell_type": "markdown",
      "metadata": {
        "id": "Ku-dA4DKoeXk"
      },
      "source": [
        "### Download Models"
      ]
    },
    {
      "cell_type": "code",
      "metadata": {
        "id": "oz9RsL0RYYrq"
      },
      "source": [
        "from google.colab import drive\n",
        "drive.mount('/gdrive')\n",
        "!ls /gdrive\n",
        "\n",
        "!ln -s \"/gdrive/My Drive\" /mydrive\n",
        "DATAROOT='/mydrive/machine-learning/tts/data/jsut_ver1.1_ljspeech_structure/model_zoo'"
      ],
      "execution_count": null,
      "outputs": []
    },
    {
      "cell_type": "markdown",
      "metadata": {
        "id": "_ZuDrj_ioqHE"
      },
      "source": [
        "### Setup Libraries"
      ]
    },
    {
      "cell_type": "code",
      "metadata": {
        "id": "X2axt5BYq7gv"
      },
      "source": [
        "#%%script false --no-raise-error\n",
        "!sudo apt-get install automake libtool\n",
        "!git clone https://github.com/tset-tset-tset/espeak-ng -b tset-tset-tset-patch-1\n",
        "%cd espeak-ng/\n",
        "!./autogen.sh && ./configure --libdir=/usr/lib/x86_64-linux-gnu\n",
        "!make\n",
        "!sudo make install\n",
        "\n",
        "## 以下がゴミなく変換できれば成功\n",
        "!echo 'スウェーデン' | espeak-ng -x -v ja\n",
        "\n",
        "%cd .."
      ],
      "execution_count": null,
      "outputs": []
    },
    {
      "cell_type": "code",
      "metadata": {
        "id": "ZduAf-qYYEIT"
      },
      "source": [
        "!git clone https://github.com/coqui-ai/TTS TTS_repo"
      ],
      "execution_count": null,
      "outputs": []
    },
    {
      "cell_type": "code",
      "metadata": {
        "id": "ofPCvPyjZEcT",
        "colab": {
          "base_uri": "https://localhost:8080/"
        },
        "outputId": "9a32314f-1c81-4f72-b2bb-f6b107689b85"
      },
      "source": [
        "%cd TTS_repo\n",
        "!git checkout 4132240\n",
        "!pip install -e .\n",
        "!pip install numba\n",
        "# 二回呼んでいるのは意図的\n",
        "!pip install -e .\n",
        "%cd /content"
      ],
      "execution_count": 4,
      "outputs": [
        {
          "output_type": "stream",
          "text": [
            "/content/TTS_repo\n",
            "Note: checking out '4132240'.\n",
            "\n",
            "You are in 'detached HEAD' state. You can look around, make experimental\n",
            "changes and commit them, and you can discard any commits you make in this\n",
            "state without impacting any branches by performing another checkout.\n",
            "\n",
            "If you want to create a new branch to retain commits you create, you may\n",
            "do so (now or later) by using -b with the checkout command again. Example:\n",
            "\n",
            "  git checkout -b <new-branch-name>\n",
            "\n",
            "HEAD is now at 41322408 Merge branch 'dev' of https://github.com/mozilla/TTS into dev\n",
            "Obtaining file:///content/TTS_repo\n",
            "Requirement already satisfied: torch>=1.5 in /usr/local/lib/python3.7/dist-packages (from TTS==0.0.8+4132240) (1.9.0+cu102)\n",
            "Requirement already satisfied: numpy>=1.16.0 in /usr/local/lib/python3.7/dist-packages (from TTS==0.0.8+4132240) (1.19.5)\n",
            "Requirement already satisfied: scipy>=0.19.0 in /usr/local/lib/python3.7/dist-packages (from TTS==0.0.8+4132240) (1.4.1)\n",
            "Collecting numba==0.48\n",
            "  Downloading numba-0.48.0-1-cp37-cp37m-manylinux2014_x86_64.whl (3.5 MB)\n",
            "\u001b[K     |████████████████████████████████| 3.5 MB 5.1 MB/s \n",
            "\u001b[?25hCollecting librosa==0.7.2\n",
            "  Downloading librosa-0.7.2.tar.gz (1.6 MB)\n",
            "\u001b[K     |████████████████████████████████| 1.6 MB 56.2 MB/s \n",
            "\u001b[?25hCollecting phonemizer>=2.2.0\n",
            "  Downloading phonemizer-2.2.2-py3-none-any.whl (49 kB)\n",
            "\u001b[K     |████████████████████████████████| 49 kB 4.4 MB/s \n",
            "\u001b[?25hCollecting unidecode==0.4.20\n",
            "  Downloading Unidecode-0.04.20-py2.py3-none-any.whl (228 kB)\n",
            "\u001b[K     |████████████████████████████████| 228 kB 57.0 MB/s \n",
            "\u001b[?25hCollecting attrdict\n",
            "  Downloading attrdict-2.0.1-py2.py3-none-any.whl (9.9 kB)\n",
            "Collecting tensorboardX\n",
            "  Downloading tensorboardX-2.4-py2.py3-none-any.whl (124 kB)\n",
            "\u001b[K     |████████████████████████████████| 124 kB 54.3 MB/s \n",
            "\u001b[?25hRequirement already satisfied: matplotlib in /usr/local/lib/python3.7/dist-packages (from TTS==0.0.8+4132240) (3.2.2)\n",
            "Requirement already satisfied: Pillow in /usr/local/lib/python3.7/dist-packages (from TTS==0.0.8+4132240) (7.1.2)\n",
            "Requirement already satisfied: flask in /usr/local/lib/python3.7/dist-packages (from TTS==0.0.8+4132240) (1.1.4)\n",
            "Requirement already satisfied: tqdm in /usr/local/lib/python3.7/dist-packages (from TTS==0.0.8+4132240) (4.41.1)\n",
            "Requirement already satisfied: inflect in /usr/local/lib/python3.7/dist-packages (from TTS==0.0.8+4132240) (2.1.0)\n",
            "Collecting bokeh==1.4.0\n",
            "  Downloading bokeh-1.4.0.tar.gz (32.4 MB)\n",
            "\u001b[K     |████████████████████████████████| 32.4 MB 70 kB/s \n",
            "\u001b[?25hCollecting pysbd\n",
            "  Downloading pysbd-0.3.4-py3-none-any.whl (71 kB)\n",
            "\u001b[K     |████████████████████████████████| 71 kB 7.3 MB/s \n",
            "\u001b[?25hCollecting pyworld\n",
            "  Downloading pyworld-0.3.0.tar.gz (212 kB)\n",
            "\u001b[K     |████████████████████████████████| 212 kB 51.1 MB/s \n",
            "\u001b[?25h  Installing build dependencies ... \u001b[?25l\u001b[?25hdone\n",
            "  Getting requirements to build wheel ... \u001b[?25l\u001b[?25hdone\n",
            "    Preparing wheel metadata ... \u001b[?25l\u001b[?25hdone\n",
            "Requirement already satisfied: soundfile in /usr/local/lib/python3.7/dist-packages (from TTS==0.0.8+4132240) (0.10.3.post1)\n",
            "Collecting nose==1.3.7\n",
            "  Downloading nose-1.3.7-py3-none-any.whl (154 kB)\n",
            "\u001b[K     |████████████████████████████████| 154 kB 64.7 MB/s \n",
            "\u001b[?25hCollecting cardboardlint==1.3.0\n",
            "  Downloading cardboardlint-1.3.0.tar.gz (27 kB)\n",
            "Collecting pylint==2.5.3\n",
            "  Downloading pylint-2.5.3-py3-none-any.whl (324 kB)\n",
            "\u001b[K     |████████████████████████████████| 324 kB 57.4 MB/s \n",
            "\u001b[?25hRequirement already satisfied: gdown in /usr/local/lib/python3.7/dist-packages (from TTS==0.0.8+4132240) (3.6.4)\n",
            "Collecting umap-learn\n",
            "  Downloading umap-learn-0.5.1.tar.gz (80 kB)\n",
            "\u001b[K     |████████████████████████████████| 80 kB 7.7 MB/s \n",
            "\u001b[?25hRequirement already satisfied: cython in /usr/local/lib/python3.7/dist-packages (from TTS==0.0.8+4132240) (0.29.23)\n",
            "Requirement already satisfied: pyyaml in /usr/local/lib/python3.7/dist-packages (from TTS==0.0.8+4132240) (3.13)\n",
            "Requirement already satisfied: six>=1.5.2 in /usr/local/lib/python3.7/dist-packages (from bokeh==1.4.0->TTS==0.0.8+4132240) (1.15.0)\n",
            "Requirement already satisfied: python-dateutil>=2.1 in /usr/local/lib/python3.7/dist-packages (from bokeh==1.4.0->TTS==0.0.8+4132240) (2.8.1)\n",
            "Requirement already satisfied: Jinja2>=2.7 in /usr/local/lib/python3.7/dist-packages (from bokeh==1.4.0->TTS==0.0.8+4132240) (2.11.3)\n",
            "Requirement already satisfied: packaging>=16.8 in /usr/local/lib/python3.7/dist-packages (from bokeh==1.4.0->TTS==0.0.8+4132240) (21.0)\n",
            "Requirement already satisfied: tornado>=4.3 in /usr/local/lib/python3.7/dist-packages (from bokeh==1.4.0->TTS==0.0.8+4132240) (5.1.1)\n",
            "Requirement already satisfied: audioread>=2.0.0 in /usr/local/lib/python3.7/dist-packages (from librosa==0.7.2->TTS==0.0.8+4132240) (2.1.9)\n",
            "Requirement already satisfied: scikit-learn!=0.19.0,>=0.14.0 in /usr/local/lib/python3.7/dist-packages (from librosa==0.7.2->TTS==0.0.8+4132240) (0.22.2.post1)\n",
            "Requirement already satisfied: joblib>=0.12 in /usr/local/lib/python3.7/dist-packages (from librosa==0.7.2->TTS==0.0.8+4132240) (1.0.1)\n",
            "Requirement already satisfied: decorator>=3.0.0 in /usr/local/lib/python3.7/dist-packages (from librosa==0.7.2->TTS==0.0.8+4132240) (4.4.2)\n",
            "Requirement already satisfied: resampy>=0.2.2 in /usr/local/lib/python3.7/dist-packages (from librosa==0.7.2->TTS==0.0.8+4132240) (0.2.2)\n",
            "Requirement already satisfied: setuptools in /usr/local/lib/python3.7/dist-packages (from numba==0.48->TTS==0.0.8+4132240) (57.2.0)\n",
            "Collecting llvmlite<0.32.0,>=0.31.0dev0\n",
            "  Downloading llvmlite-0.31.0-cp37-cp37m-manylinux1_x86_64.whl (20.2 MB)\n",
            "\u001b[K     |████████████████████████████████| 20.2 MB 1.3 MB/s \n",
            "\u001b[?25hCollecting astroid<=2.5,>=2.4.0\n",
            "  Downloading astroid-2.5-py3-none-any.whl (220 kB)\n",
            "\u001b[K     |████████████████████████████████| 220 kB 62.3 MB/s \n",
            "\u001b[?25hCollecting mccabe<0.7,>=0.6\n",
            "  Downloading mccabe-0.6.1-py2.py3-none-any.whl (8.6 kB)\n",
            "Collecting isort<5,>=4.2.5\n",
            "  Downloading isort-4.3.21-py2.py3-none-any.whl (42 kB)\n",
            "\u001b[K     |████████████████████████████████| 42 kB 869 kB/s \n",
            "\u001b[?25hRequirement already satisfied: toml>=0.7.1 in /usr/local/lib/python3.7/dist-packages (from pylint==2.5.3->TTS==0.0.8+4132240) (0.10.2)\n",
            "Collecting lazy-object-proxy>=1.4.0\n",
            "  Downloading lazy_object_proxy-1.6.0-cp37-cp37m-manylinux1_x86_64.whl (55 kB)\n",
            "\u001b[K     |████████████████████████████████| 55 kB 3.4 MB/s \n",
            "\u001b[?25hRequirement already satisfied: wrapt<1.13,>=1.11 in /usr/local/lib/python3.7/dist-packages (from astroid<=2.5,>=2.4.0->pylint==2.5.3->TTS==0.0.8+4132240) (1.12.1)\n",
            "Collecting typed-ast<1.5,>=1.4.0\n",
            "  Downloading typed_ast-1.4.3-cp37-cp37m-manylinux1_x86_64.whl (743 kB)\n",
            "\u001b[K     |████████████████████████████████| 743 kB 25.7 MB/s \n",
            "\u001b[?25hRequirement already satisfied: MarkupSafe>=0.23 in /usr/local/lib/python3.7/dist-packages (from Jinja2>=2.7->bokeh==1.4.0->TTS==0.0.8+4132240) (2.0.1)\n",
            "\u001b[31mERROR: Could not install packages due to an OSError: [Errno 2] No such file or directory: '/usr/local/lib/python3.7/dist-packages/numpy-1.19.5.dist-info/METADATA'\n",
            "\u001b[0m\n",
            "Requirement already satisfied: numba in /usr/local/lib/python3.7/dist-packages (0.51.2)\n",
            "Requirement already satisfied: setuptools in /usr/local/lib/python3.7/dist-packages (from numba) (57.2.0)\n",
            "Requirement already satisfied: numpy>=1.15 in /usr/local/lib/python3.7/dist-packages (from numba) (1.18.5)\n",
            "Requirement already satisfied: llvmlite<0.35,>=0.34.0.dev0 in /usr/local/lib/python3.7/dist-packages (from numba) (0.34.0)\n",
            "Obtaining file:///content/TTS_repo\n",
            "Requirement already satisfied: torch>=1.5 in /usr/local/lib/python3.7/dist-packages (from TTS==0.0.8+4132240) (1.9.0+cu102)\n",
            "Requirement already satisfied: numpy>=1.16.0 in /usr/local/lib/python3.7/dist-packages (from TTS==0.0.8+4132240) (1.18.5)\n",
            "Requirement already satisfied: scipy>=0.19.0 in /usr/local/lib/python3.7/dist-packages (from TTS==0.0.8+4132240) (1.4.1)\n",
            "Collecting numba==0.48\n",
            "  Using cached numba-0.48.0-1-cp37-cp37m-manylinux2014_x86_64.whl (3.5 MB)\n",
            "Collecting librosa==0.7.2\n",
            "  Using cached librosa-0.7.2.tar.gz (1.6 MB)\n",
            "Collecting phonemizer>=2.2.0\n",
            "  Using cached phonemizer-2.2.2-py3-none-any.whl (49 kB)\n",
            "Collecting unidecode==0.4.20\n",
            "  Using cached Unidecode-0.04.20-py2.py3-none-any.whl (228 kB)\n",
            "Collecting attrdict\n",
            "  Using cached attrdict-2.0.1-py2.py3-none-any.whl (9.9 kB)\n",
            "Collecting tensorboardX\n",
            "  Using cached tensorboardX-2.4-py2.py3-none-any.whl (124 kB)\n",
            "Requirement already satisfied: matplotlib in /usr/local/lib/python3.7/dist-packages (from TTS==0.0.8+4132240) (3.2.2)\n",
            "Requirement already satisfied: Pillow in /usr/local/lib/python3.7/dist-packages (from TTS==0.0.8+4132240) (7.1.2)\n",
            "Requirement already satisfied: flask in /usr/local/lib/python3.7/dist-packages (from TTS==0.0.8+4132240) (1.1.4)\n",
            "Requirement already satisfied: tqdm in /usr/local/lib/python3.7/dist-packages (from TTS==0.0.8+4132240) (4.41.1)\n",
            "Requirement already satisfied: inflect in /usr/local/lib/python3.7/dist-packages (from TTS==0.0.8+4132240) (2.1.0)\n",
            "Collecting bokeh==1.4.0\n",
            "  Using cached bokeh-1.4.0.tar.gz (32.4 MB)\n",
            "Collecting pysbd\n",
            "  Using cached pysbd-0.3.4-py3-none-any.whl (71 kB)\n",
            "Collecting pyworld\n",
            "  Using cached pyworld-0.3.0.tar.gz (212 kB)\n",
            "  Installing build dependencies ... \u001b[?25l\u001b[?25hdone\n",
            "  Getting requirements to build wheel ... \u001b[?25l\u001b[?25hdone\n",
            "    Preparing wheel metadata ... \u001b[?25l\u001b[?25hdone\n",
            "Requirement already satisfied: soundfile in /usr/local/lib/python3.7/dist-packages (from TTS==0.0.8+4132240) (0.10.3.post1)\n",
            "Collecting nose==1.3.7\n",
            "  Using cached nose-1.3.7-py3-none-any.whl (154 kB)\n",
            "Collecting cardboardlint==1.3.0\n",
            "  Using cached cardboardlint-1.3.0.tar.gz (27 kB)\n",
            "Collecting pylint==2.5.3\n",
            "  Using cached pylint-2.5.3-py3-none-any.whl (324 kB)\n",
            "Requirement already satisfied: gdown in /usr/local/lib/python3.7/dist-packages (from TTS==0.0.8+4132240) (3.6.4)\n",
            "Collecting umap-learn\n",
            "  Using cached umap-learn-0.5.1.tar.gz (80 kB)\n",
            "Requirement already satisfied: cython in /usr/local/lib/python3.7/dist-packages (from TTS==0.0.8+4132240) (0.29.23)\n",
            "Requirement already satisfied: pyyaml in /usr/local/lib/python3.7/dist-packages (from TTS==0.0.8+4132240) (3.13)\n",
            "Requirement already satisfied: six>=1.5.2 in /usr/local/lib/python3.7/dist-packages (from bokeh==1.4.0->TTS==0.0.8+4132240) (1.15.0)\n",
            "Requirement already satisfied: python-dateutil>=2.1 in /usr/local/lib/python3.7/dist-packages (from bokeh==1.4.0->TTS==0.0.8+4132240) (2.8.1)\n",
            "Requirement already satisfied: Jinja2>=2.7 in /usr/local/lib/python3.7/dist-packages (from bokeh==1.4.0->TTS==0.0.8+4132240) (2.11.3)\n",
            "Requirement already satisfied: packaging>=16.8 in /usr/local/lib/python3.7/dist-packages (from bokeh==1.4.0->TTS==0.0.8+4132240) (21.0)\n",
            "Requirement already satisfied: tornado>=4.3 in /usr/local/lib/python3.7/dist-packages (from bokeh==1.4.0->TTS==0.0.8+4132240) (5.1.1)\n",
            "Requirement already satisfied: audioread>=2.0.0 in /usr/local/lib/python3.7/dist-packages (from librosa==0.7.2->TTS==0.0.8+4132240) (2.1.9)\n",
            "Requirement already satisfied: scikit-learn!=0.19.0,>=0.14.0 in /usr/local/lib/python3.7/dist-packages (from librosa==0.7.2->TTS==0.0.8+4132240) (0.22.2.post1)\n",
            "Requirement already satisfied: joblib>=0.12 in /usr/local/lib/python3.7/dist-packages (from librosa==0.7.2->TTS==0.0.8+4132240) (1.0.1)\n",
            "Requirement already satisfied: decorator>=3.0.0 in /usr/local/lib/python3.7/dist-packages (from librosa==0.7.2->TTS==0.0.8+4132240) (4.4.2)\n",
            "Requirement already satisfied: resampy>=0.2.2 in /usr/local/lib/python3.7/dist-packages (from librosa==0.7.2->TTS==0.0.8+4132240) (0.2.2)\n",
            "Collecting llvmlite<0.32.0,>=0.31.0dev0\n",
            "  Using cached llvmlite-0.31.0-cp37-cp37m-manylinux1_x86_64.whl (20.2 MB)\n",
            "Requirement already satisfied: setuptools in /usr/local/lib/python3.7/dist-packages (from numba==0.48->TTS==0.0.8+4132240) (57.2.0)\n",
            "Requirement already satisfied: toml>=0.7.1 in /usr/local/lib/python3.7/dist-packages (from pylint==2.5.3->TTS==0.0.8+4132240) (0.10.2)\n",
            "Collecting astroid<=2.5,>=2.4.0\n",
            "  Using cached astroid-2.5-py3-none-any.whl (220 kB)\n",
            "Collecting isort<5,>=4.2.5\n",
            "  Using cached isort-4.3.21-py2.py3-none-any.whl (42 kB)\n",
            "Collecting mccabe<0.7,>=0.6\n",
            "  Using cached mccabe-0.6.1-py2.py3-none-any.whl (8.6 kB)\n",
            "Collecting typed-ast<1.5,>=1.4.0\n",
            "  Using cached typed_ast-1.4.3-cp37-cp37m-manylinux1_x86_64.whl (743 kB)\n",
            "Collecting lazy-object-proxy>=1.4.0\n",
            "  Using cached lazy_object_proxy-1.6.0-cp37-cp37m-manylinux1_x86_64.whl (55 kB)\n",
            "Requirement already satisfied: wrapt<1.13,>=1.11 in /usr/local/lib/python3.7/dist-packages (from astroid<=2.5,>=2.4.0->pylint==2.5.3->TTS==0.0.8+4132240) (1.12.1)\n",
            "Requirement already satisfied: MarkupSafe>=0.23 in /usr/local/lib/python3.7/dist-packages (from Jinja2>=2.7->bokeh==1.4.0->TTS==0.0.8+4132240) (2.0.1)\n",
            "Requirement already satisfied: pyparsing>=2.0.2 in /usr/local/lib/python3.7/dist-packages (from packaging>=16.8->bokeh==1.4.0->TTS==0.0.8+4132240) (2.4.7)\n",
            "Collecting segments\n",
            "  Downloading segments-2.2.0-py2.py3-none-any.whl (15 kB)\n",
            "Requirement already satisfied: attrs>=18.1 in /usr/local/lib/python3.7/dist-packages (from phonemizer>=2.2.0->TTS==0.0.8+4132240) (21.2.0)\n",
            "Requirement already satisfied: cffi>=1.0 in /usr/local/lib/python3.7/dist-packages (from soundfile->TTS==0.0.8+4132240) (1.14.6)\n",
            "Requirement already satisfied: pycparser in /usr/local/lib/python3.7/dist-packages (from cffi>=1.0->soundfile->TTS==0.0.8+4132240) (2.20)\n",
            "Requirement already satisfied: typing-extensions in /usr/local/lib/python3.7/dist-packages (from torch>=1.5->TTS==0.0.8+4132240) (3.7.4.3)\n",
            "Requirement already satisfied: Werkzeug<2.0,>=0.15 in /usr/local/lib/python3.7/dist-packages (from flask->TTS==0.0.8+4132240) (1.0.1)\n",
            "Requirement already satisfied: click<8.0,>=5.1 in /usr/local/lib/python3.7/dist-packages (from flask->TTS==0.0.8+4132240) (7.1.2)\n",
            "Requirement already satisfied: itsdangerous<2.0,>=0.24 in /usr/local/lib/python3.7/dist-packages (from flask->TTS==0.0.8+4132240) (1.1.0)\n",
            "Requirement already satisfied: requests in /usr/local/lib/python3.7/dist-packages (from gdown->TTS==0.0.8+4132240) (2.23.0)\n",
            "Requirement already satisfied: kiwisolver>=1.0.1 in /usr/local/lib/python3.7/dist-packages (from matplotlib->TTS==0.0.8+4132240) (1.3.1)\n",
            "Requirement already satisfied: cycler>=0.10 in /usr/local/lib/python3.7/dist-packages (from matplotlib->TTS==0.0.8+4132240) (0.10.0)\n",
            "Requirement already satisfied: idna<3,>=2.5 in /usr/local/lib/python3.7/dist-packages (from requests->gdown->TTS==0.0.8+4132240) (2.10)\n",
            "Requirement already satisfied: certifi>=2017.4.17 in /usr/local/lib/python3.7/dist-packages (from requests->gdown->TTS==0.0.8+4132240) (2021.5.30)\n",
            "Requirement already satisfied: urllib3!=1.25.0,!=1.25.1,<1.26,>=1.21.1 in /usr/local/lib/python3.7/dist-packages (from requests->gdown->TTS==0.0.8+4132240) (1.24.3)\n",
            "Requirement already satisfied: chardet<4,>=3.0.2 in /usr/local/lib/python3.7/dist-packages (from requests->gdown->TTS==0.0.8+4132240) (3.0.4)\n",
            "Requirement already satisfied: regex in /usr/local/lib/python3.7/dist-packages (from segments->phonemizer>=2.2.0->TTS==0.0.8+4132240) (2019.12.20)\n",
            "Collecting csvw>=1.5.6\n",
            "  Downloading csvw-1.11.0-py2.py3-none-any.whl (35 kB)\n",
            "Collecting clldutils>=1.7.3\n",
            "  Downloading clldutils-3.9.0-py2.py3-none-any.whl (195 kB)\n",
            "\u001b[K     |████████████████████████████████| 195 kB 6.5 MB/s \n",
            "\u001b[?25hCollecting colorlog\n",
            "  Downloading colorlog-5.0.1-py2.py3-none-any.whl (10 kB)\n",
            "Requirement already satisfied: tabulate>=0.7.7 in /usr/local/lib/python3.7/dist-packages (from clldutils>=1.7.3->segments->phonemizer>=2.2.0->TTS==0.0.8+4132240) (0.8.9)\n",
            "Requirement already satisfied: uritemplate>=3.0.0 in /usr/local/lib/python3.7/dist-packages (from csvw>=1.5.6->segments->phonemizer>=2.2.0->TTS==0.0.8+4132240) (3.0.1)\n",
            "Collecting rfc3986\n",
            "  Downloading rfc3986-1.5.0-py2.py3-none-any.whl (31 kB)\n",
            "Collecting isodate\n",
            "  Downloading isodate-0.6.0-py2.py3-none-any.whl (45 kB)\n",
            "\u001b[K     |████████████████████████████████| 45 kB 3.0 MB/s \n",
            "\u001b[?25hRequirement already satisfied: protobuf>=3.8.0 in /usr/local/lib/python3.7/dist-packages (from tensorboardX->TTS==0.0.8+4132240) (3.17.3)\n",
            "Collecting umap-learn\n",
            "  Downloading umap-learn-0.5.0.tar.gz (81 kB)\n",
            "\u001b[K     |████████████████████████████████| 81 kB 9.7 MB/s \n",
            "\u001b[?25h  Downloading umap-learn-0.4.6.tar.gz (69 kB)\n",
            "\u001b[K     |████████████████████████████████| 69 kB 6.9 MB/s \n",
            "\u001b[?25hBuilding wheels for collected packages: bokeh, cardboardlint, librosa, pyworld, umap-learn\n",
            "  Building wheel for bokeh (setup.py) ... \u001b[?25l\u001b[?25hdone\n",
            "  Created wheel for bokeh: filename=bokeh-1.4.0-py3-none-any.whl size=23689209 sha256=4c98f5cac5133bea59552288976239a9845ad3e134668c45caa7dbf569db6223\n",
            "  Stored in directory: /root/.cache/pip/wheels/49/8c/d1/6b8e1f57e542671673cb3d2faee1a9eccb36be2c08a3915498\n",
            "  Building wheel for cardboardlint (setup.py) ... \u001b[?25l\u001b[?25hdone\n",
            "  Created wheel for cardboardlint: filename=cardboardlint-1.3.0-py3-none-any.whl size=51323 sha256=7e429a9f02714ccc86cfc28b814117df450143f94b3188976bbbb742790450f1\n",
            "  Stored in directory: /root/.cache/pip/wheels/f1/e9/98/b701eee8424207a1955a0e79a5af087df294926f21da1a88e8\n",
            "  Building wheel for librosa (setup.py) ... \u001b[?25l\u001b[?25hdone\n",
            "  Created wheel for librosa: filename=librosa-0.7.2-py3-none-any.whl size=1612900 sha256=d2a86931dccba04f571d4405f931912f2881433eb35ffb81a57afad5704a440d\n",
            "  Stored in directory: /root/.cache/pip/wheels/18/9e/42/3224f85730f92fa2925f0b4fb6ef7f9c5431a64dfc77b95b39\n",
            "  Building wheel for pyworld (PEP 517) ... \u001b[?25l\u001b[?25hdone\n",
            "  Created wheel for pyworld: filename=pyworld-0.3.0-cp37-cp37m-linux_x86_64.whl size=609441 sha256=2511aa9d3919d6ab44eab6d28951201880068a8b582544f20eda373d3a973f74\n",
            "  Stored in directory: /root/.cache/pip/wheels/e7/7c/11/c775fffa0e1e7b05a6604b4323408a77f80fb4ab304d96b5c6\n",
            "  Building wheel for umap-learn (setup.py) ... \u001b[?25l\u001b[?25hdone\n",
            "  Created wheel for umap-learn: filename=umap_learn-0.4.6-py3-none-any.whl size=67950 sha256=8206622ab78999ca3f79185153ae4d92ad61b0ee9d81b92dd2562c6412abe1fa\n",
            "  Stored in directory: /root/.cache/pip/wheels/14/9a/ed/66159a5e13d3b6341b6542cf4f1faf478834753bed5ecaef8d\n",
            "Successfully built bokeh cardboardlint librosa pyworld umap-learn\n",
            "Installing collected packages: rfc3986, isodate, llvmlite, csvw, colorlog, typed-ast, numba, lazy-object-proxy, clldutils, segments, mccabe, isort, astroid, unidecode, umap-learn, tensorboardX, pyworld, pysbd, pylint, phonemizer, nose, librosa, cardboardlint, bokeh, attrdict, TTS\n",
            "  Attempting uninstall: llvmlite\n",
            "    Found existing installation: llvmlite 0.34.0\n",
            "    Uninstalling llvmlite-0.34.0:\n",
            "      Successfully uninstalled llvmlite-0.34.0\n",
            "  Attempting uninstall: numba\n",
            "    Found existing installation: numba 0.51.2\n",
            "    Uninstalling numba-0.51.2:\n",
            "      Successfully uninstalled numba-0.51.2\n",
            "  Attempting uninstall: librosa\n",
            "    Found existing installation: librosa 0.8.1\n",
            "    Uninstalling librosa-0.8.1:\n",
            "      Successfully uninstalled librosa-0.8.1\n",
            "  Attempting uninstall: bokeh\n",
            "    Found existing installation: bokeh 2.3.3\n",
            "    Uninstalling bokeh-2.3.3:\n",
            "      Successfully uninstalled bokeh-2.3.3\n",
            "  Running setup.py develop for TTS\n",
            "\u001b[31mERROR: pip's dependency resolver does not currently take into account all the packages that are installed. This behaviour is the source of the following dependency conflicts.\n",
            "panel 0.11.3 requires bokeh<2.4.0,>=2.3.0, but you have bokeh 1.4.0 which is incompatible.\u001b[0m\n",
            "Successfully installed TTS-0.0.8+4132240 astroid-2.5 attrdict-2.0.1 bokeh-1.4.0 cardboardlint-1.3.0 clldutils-3.9.0 colorlog-5.0.1 csvw-1.11.0 isodate-0.6.0 isort-4.3.21 lazy-object-proxy-1.6.0 librosa-0.7.2 llvmlite-0.31.0 mccabe-0.6.1 nose-1.3.7 numba-0.48.0 phonemizer-2.2.2 pylint-2.5.3 pysbd-0.3.4 pyworld-0.3.0 rfc3986-1.5.0 segments-2.2.0 tensorboardX-2.4 typed-ast-1.4.3 umap-learn-0.4.6 unidecode-0.4.20\n",
            "/content\n"
          ],
          "name": "stdout"
        }
      ]
    },
    {
      "cell_type": "markdown",
      "metadata": {
        "id": "Zlgi8fPdpRF0"
      },
      "source": [
        "### Define TTS function"
      ]
    },
    {
      "cell_type": "code",
      "metadata": {
        "id": "f-Yc42nQZG5A"
      },
      "source": [
        "def interpolate_vocoder_input(scale_factor, spec):\n",
        "    \"\"\"Interpolation to tolarate the sampling rate difference\n",
        "    btw tts model and vocoder\"\"\"\n",
        "    print(\" > before interpolation :\", spec.shape)\n",
        "    spec = torch.tensor(spec).unsqueeze(0).unsqueeze(0)\n",
        "    spec = torch.nn.functional.interpolate(spec, scale_factor=scale_factor, mode='bilinear').squeeze(0)\n",
        "    print(\" > after interpolation :\", spec.shape)\n",
        "    return spec\n",
        "\n",
        "def tts(model, text, CONFIG, use_cuda, ap, use_gl, figures=True):\n",
        "    t_1 = time.time()\n",
        "    # run tts\n",
        "    target_sr = CONFIG.audio['sample_rate']\n",
        "    waveform, alignment, mel_spec, mel_postnet_spec, stop_tokens, inputs =\\\n",
        "     synthesis(model,\n",
        "               text,\n",
        "               CONFIG,\n",
        "               use_cuda,\n",
        "               ap,\n",
        "               speaker_id,\n",
        "               None,\n",
        "               False,\n",
        "               CONFIG.enable_eos_bos_chars,\n",
        "               use_gl)\n",
        "  \n",
        "    # run vocoder\n",
        "    mel_postnet_spec = ap._denormalize(mel_postnet_spec.T).T\n",
        "    if not use_gl:\n",
        "        target_sr = VOCODER_CONFIG.audio['sample_rate']\n",
        "        vocoder_input = ap_vocoder._normalize(mel_postnet_spec.T)\n",
        "        if scale_factor[1] != 1:\n",
        "            vocoder_input = interpolate_vocoder_input(scale_factor, vocoder_input)\n",
        "        else:\n",
        "            vocoder_input = torch.tensor(vocoder_input).unsqueeze(0)\n",
        "        waveform = vocoder_model.inference(vocoder_input)\n",
        "    # format output\n",
        "    if use_cuda and not use_gl:\n",
        "        waveform = waveform.cpu()\n",
        "    if not use_gl:\n",
        "        waveform = waveform.numpy()\n",
        "    waveform = waveform.squeeze()\n",
        "    # compute run-time performance\n",
        "    rtf = (time.time() - t_1) / (len(waveform) / ap.sample_rate)\n",
        "    tps = (time.time() - t_1) / len(waveform)\n",
        "    print(waveform.shape)\n",
        "    print(\" > Run-time: {}\".format(time.time() - t_1))\n",
        "    print(\" > Real-time factor: {}\".format(rtf))\n",
        "    print(\" > Time per step: {}\".format(tps))\n",
        "    # display audio\n",
        "    IPython.display.display(IPython.display.Audio(waveform, rate=target_sr))\n",
        "    \n",
        "    return alignment, mel_postnet_spec, stop_tokens, waveform"
      ],
      "execution_count": 5,
      "outputs": []
    },
    {
      "cell_type": "markdown",
      "metadata": {
        "id": "ZksegYQepkFg"
      },
      "source": [
        "### Load Models"
      ]
    },
    {
      "cell_type": "code",
      "metadata": {
        "id": "oVa0kOamprgj"
      },
      "source": [
        "# numpy-1.19.5がないというエラーで一度失敗するが、再度実行すれば通る\n",
        "import sys\n",
        "import os\n",
        "import torch\n",
        "import time\n",
        "import IPython\n",
        "\n",
        "# for some reason TTS installation does not work on Colab\n",
        "sys.path.append('TTS_repo')\n",
        "\n",
        "from TTS.utils.io import load_config\n",
        "from TTS.utils.audio import AudioProcessor\n",
        "from TTS.tts.utils.generic_utils import setup_model\n",
        "from TTS.tts.utils.text.symbols import symbols, phonemes\n",
        "from TTS.tts.utils.synthesis import synthesis\n",
        "from TTS.tts.utils.io import load_checkpoint"
      ],
      "execution_count": 7,
      "outputs": []
    },
    {
      "cell_type": "code",
      "metadata": {
        "id": "EY-sHVO8IFSH"
      },
      "source": [
        "# runtime settings\n",
        "use_cuda = False"
      ],
      "execution_count": 8,
      "outputs": []
    },
    {
      "cell_type": "code",
      "metadata": {
        "id": "YoCD66VLckn-"
      },
      "source": [
        "!cp $DATAROOT/glow-tts-residual_bn_conv-jsut-stats/checkpoint_440000.pth.tar tts_model.pth.tar\n",
        "!cp $DATAROOT/glow-tts-residual_bn_conv-jsut-stats/scale_stats.npy scale_stats.npy\n",
        "!cp $DATAROOT/glow-tts-residual_bn_conv-jsut-stats/config.json config.json"
      ],
      "execution_count": 9,
      "outputs": []
    },
    {
      "cell_type": "code",
      "metadata": {
        "id": "4dnpE0-kvTsu"
      },
      "source": [
        "# 自前で学習したvocoderを使いたい場合\n",
        "%%script false --no-raise-error\n",
        "!cp $DATAROOT/multiband-melgan/checkpoint_440000.pth.tar vocoder_model.pth.tar\n",
        "!cp $DATAROOT/multiband-melgan/config.json config_vocoder.json"
      ],
      "execution_count": 10,
      "outputs": []
    },
    {
      "cell_type": "code",
      "metadata": {
        "id": "7lPDblU1sgHo"
      },
      "source": [
        "#%%script false --no-raise-error\n",
        "!gdown --id 1Ty5DZdOc0F7OTGj9oJThYbL5iVu_2G0K -O vocoder_model.pth.tar\n",
        "!gdown --id 1Rd0R_nRCrbjEdpOwq6XwZAktvugiBvmu -O config_vocoder.json\n",
        "!gdown --id 11oY3Tv0kQtxK_JPgxrfesa99maVXHNxU -O scale_stats_vocoder.npy"
      ],
      "execution_count": null,
      "outputs": []
    },
    {
      "cell_type": "code",
      "metadata": {
        "id": "_1aIUp2FpxOQ"
      },
      "source": [
        "# model paths\n",
        "TTS_MODEL = \"tts_model.pth.tar\"\n",
        "TTS_CONFIG = \"config.json\"\n",
        "VOCODER_MODEL = \"vocoder_model.pth.tar\"\n",
        "VOCODER_CONFIG = \"config_vocoder.json\""
      ],
      "execution_count": 12,
      "outputs": []
    },
    {
      "cell_type": "code",
      "metadata": {
        "id": "CpgmdBVQplbv"
      },
      "source": [
        "# load configs\n",
        "TTS_CONFIG = load_config(TTS_CONFIG)\n",
        "TTS_CONFIG.audio['stats_path'] = \"./scale_stats.npy\"\n",
        "TTS_CONFIG.audio['signal_norm'] = True\n",
        "VOCODER_CONFIG = load_config(VOCODER_CONFIG)\n",
        "#VOCODER_CONFIG.audio['stats_path'] = None\n",
        "VOCODER_CONFIG.audio['signal_norm'] = True\n",
        "VOCODER_CONFIG.audio['stats_path'] = \"./scale_stats_vocoder.npy\"\n"
      ],
      "execution_count": 13,
      "outputs": []
    },
    {
      "cell_type": "code",
      "metadata": {
        "id": "zmrQxiozIUVE",
        "colab": {
          "base_uri": "https://localhost:8080/"
        },
        "outputId": "23da0ea1-aa56-414f-e9c5-7b66801beb27"
      },
      "source": [
        "# load the audio processor\n",
        "ap = AudioProcessor(**TTS_CONFIG.audio)         "
      ],
      "execution_count": 14,
      "outputs": [
        {
          "output_type": "stream",
          "text": [
            " > Setting up Audio Processor...\n",
            " | > sample_rate:22050\n",
            " | > resample:False\n",
            " | > num_mels:80\n",
            " | > min_level_db:-100\n",
            " | > frame_shift_ms:None\n",
            " | > frame_length_ms:None\n",
            " | > ref_level_db:0\n",
            " | > fft_size:1024\n",
            " | > power:1.1\n",
            " | > preemphasis:0.0\n",
            " | > griffin_lim_iters:60\n",
            " | > signal_norm:True\n",
            " | > symmetric_norm:True\n",
            " | > mel_fmin:50.0\n",
            " | > mel_fmax:7600.0\n",
            " | > spec_gain:1.0\n",
            " | > stft_pad_mode:reflect\n",
            " | > max_norm:1.0\n",
            " | > clip_norm:True\n",
            " | > do_trim_silence:True\n",
            " | > trim_db:60\n",
            " | > do_sound_norm:False\n",
            " | > stats_path:./scale_stats.npy\n",
            " | > hop_length:256\n",
            " | > win_length:1024\n"
          ],
          "name": "stdout"
        }
      ]
    },
    {
      "cell_type": "code",
      "metadata": {
        "id": "8fLoI4ipqMeS"
      },
      "source": [
        "# LOAD TTS MODEL\n",
        "# multi speaker \n",
        "speakers = []\n",
        "speaker_id = None\n",
        "    \n",
        "if 'characters' in TTS_CONFIG.keys():\n",
        "    symbols, phonemes = make_symbols(**c.characters)\n",
        "\n",
        "# load the model\n",
        "num_chars = len(phonemes) if TTS_CONFIG.use_phonemes else len(symbols)\n",
        "model = setup_model(num_chars, len(speakers), TTS_CONFIG)      \n",
        "\n",
        "# load model state\n",
        "model, _ =  load_checkpoint(model, TTS_MODEL, use_cuda=use_cuda)\n",
        "model.eval();\n",
        "model.store_inverse();"
      ],
      "execution_count": null,
      "outputs": []
    },
    {
      "cell_type": "code",
      "metadata": {
        "id": "zKoq0GgzqzhQ",
        "colab": {
          "base_uri": "https://localhost:8080/"
        },
        "outputId": "901c68d5-3a6f-4fc2-fe83-83c2be99e39a"
      },
      "source": [
        "from TTS.vocoder.utils.generic_utils import setup_generator\n",
        "\n",
        "# LOAD VOCODER MODEL\n",
        "vocoder_model = setup_generator(VOCODER_CONFIG)\n",
        "vocoder_model.load_state_dict(torch.load(VOCODER_MODEL, map_location=\"cpu\")[\"model\"])\n",
        "vocoder_model.remove_weight_norm()\n",
        "vocoder_model.inference_padding = 0\n",
        "\n",
        "# scale factor for sampling rate difference\n",
        "scale_factor = [1,  VOCODER_CONFIG['audio']['sample_rate'] / ap.sample_rate]\n",
        "print(f\"scale_factor: {scale_factor}\")\n",
        "\n",
        "ap_vocoder = AudioProcessor(**VOCODER_CONFIG['audio'])    \n",
        "if use_cuda:\n",
        "    vocoder_model.cuda()\n",
        "vocoder_model.eval();"
      ],
      "execution_count": 16,
      "outputs": [
        {
          "output_type": "stream",
          "text": [
            " > Generator Model: multiband_melgan_generator\n",
            "scale_factor: [1, 1.0]\n",
            " > Setting up Audio Processor...\n",
            " | > sample_rate:22050\n",
            " | > resample:False\n",
            " | > num_mels:80\n",
            " | > min_level_db:-100\n",
            " | > frame_shift_ms:None\n",
            " | > frame_length_ms:None\n",
            " | > ref_level_db:0\n",
            " | > fft_size:1024\n",
            " | > power:None\n",
            " | > preemphasis:0.0\n",
            " | > griffin_lim_iters:None\n",
            " | > signal_norm:True\n",
            " | > symmetric_norm:True\n",
            " | > mel_fmin:50.0\n",
            " | > mel_fmax:7600.0\n",
            " | > spec_gain:1.0\n",
            " | > stft_pad_mode:reflect\n",
            " | > max_norm:4.0\n",
            " | > clip_norm:True\n",
            " | > do_trim_silence:True\n",
            " | > trim_db:60\n",
            " | > do_sound_norm:False\n",
            " | > stats_path:./scale_stats_vocoder.npy\n",
            " | > hop_length:256\n",
            " | > win_length:1024\n"
          ],
          "name": "stdout"
        }
      ]
    },
    {
      "cell_type": "code",
      "metadata": {
        "id": "nevr_b1IEPft"
      },
      "source": [
        "# 任意の音声ファイルをmelspectrogramに変換してvocodeしたいだけの場合\n",
        "%%script false --no-raise-error\n",
        "remote_dir='/mydrive/machine-learning/tts/data/sample'\n",
        "!mkdir -p /content/sample\n",
        "!cp $remote_dir/*.wav /content/sample/\n",
        "\n",
        "import glob\n",
        "from TTS.vocoder.datasets.gan_dataset import GANDataset\n",
        "from TTS.vocoder.utils.generic_utils import plot_results\n",
        "import matplotlib.pyplot as plt\n",
        "from TTS.utils.tensorboard_logger import TensorboardLogger\n",
        "from torch.utils.data import DataLoader\n",
        "\n",
        "wav_paths = glob.glob(os.path.join(\"/content/sample/\", \"**\", \"*.wav\"), recursive=True)\n",
        "dataset = GANDataset(\n",
        "    ap=ap_vocoder, \n",
        "    items=wav_paths,\n",
        "    seq_len=VOCODER_CONFIG.seq_len,\n",
        "    hop_len=ap_vocoder.hop_length,\n",
        "    pad_short=VOCODER_CONFIG.pad_short,\n",
        "    conv_pad=VOCODER_CONFIG.conv_pad,\n",
        "    is_training=False,\n",
        "    return_segments=False,\n",
        "    use_noise_augment=VOCODER_CONFIG.use_noise_augment,\n",
        "    use_cache=VOCODER_CONFIG.use_cache,\n",
        "    verbose=False)\n",
        "\n",
        "data = dataset[0]\n",
        "c_G, y_G = data\n",
        "c_G = c_G.unsqueeze(0)\n",
        "y_G = y_G.unsqueeze(0)\n",
        "\n",
        "y_hat = vocoder_model.inference(c_G)\n",
        "print(y_hat.shape, y_G.shape)\n",
        "\n",
        "!rm -rf ./sample/test\n",
        "figures = plot_results(y_hat, y_G, ap_vocoder, 0, \"test\")\n",
        "tb_logger = TensorboardLogger(\"/content/sample/test\", model_name=\"vocoder_test\")\n",
        "tb_logger.tb_eval_figures(0, figures)\n",
        "\n",
        "sample_voice = y_hat[0].squeeze(0).detach().cpu().numpy()\n",
        "real_voice = y_G[0].squeeze(0).cpu().numpy()\n",
        "tb_logger.tb_eval_audios(0, {'eval/audio': sample_voice, 'eval/real': real_voice}, VOCODER_CONFIG.audio[\"sample_rate\"])\n",
        "\n",
        "IPython.display.display(IPython.display.Audio(sample_voice, rate=22050))\n",
        "IPython.display.display(IPython.display.Audio(real_voice, rate=22050))\n",
        "\n",
        "%load_ext tensorboard\n",
        "%tensorboard --logdir \"/content/sample\""
      ],
      "execution_count": 17,
      "outputs": []
    },
    {
      "cell_type": "markdown",
      "metadata": {
        "id": "Ws_YkPKsLgo-"
      },
      "source": [
        "## Run Inference"
      ]
    },
    {
      "cell_type": "code",
      "metadata": {
        "id": "2fOn8eSgeR1A"
      },
      "source": [
        "#sentence = 'ミズヲ マレーシアカラ カワナクテハ ナラナイ ノデス.'\n",
        "sentence = 'サイキンノナヤミハ メンバーニマダ シタノナマエヲ オボエラレテイナイコトデスネ.'"
      ],
      "execution_count": 19,
      "outputs": []
    },
    {
      "cell_type": "code",
      "metadata": {
        "id": "FuWxZ9Ey5Puj"
      },
      "source": [
        "model.length_scale = 1.0  # set speed of the speech. \n",
        "model.noise_scale = 0.33  # set speech variationd\n",
        "\n",
        "align, spec, stop_tokedns, wav = tts(model, sentence, TTS_CONFIG, use_cuda, ap, use_gl=False, figures=True)"
      ],
      "execution_count": null,
      "outputs": []
    },
    {
      "cell_type": "code",
      "metadata": {
        "id": "3ZHjyvw9bj52"
      },
      "source": [
        "# faster speech\n",
        "model.length_scale = 0.3  # set speed of the speech. \n",
        "model.noise_scale = 0.33  # set speech variationd\n",
        "\n",
        "align, spec, stop_tokedns, wav = tts(model, sentence, TTS_CONFIG, use_cuda, ap, use_gl=False, figures=True)"
      ],
      "execution_count": null,
      "outputs": []
    },
    {
      "cell_type": "code",
      "metadata": {
        "id": "KjpFmVuKbpRR"
      },
      "source": [
        "# even more faster speech with less variantion\n",
        "model.length_scale = 0.6  # set speed of the speech. \n",
        "model.noise_scale = 0.01  # set speech variation\n",
        "\n",
        "align, spec, stop_tokedns, wav = tts(model, sentence, TTS_CONFIG, use_cuda, ap, use_gl=False, figures=True)"
      ],
      "execution_count": null,
      "outputs": []
    }
  ]
}
